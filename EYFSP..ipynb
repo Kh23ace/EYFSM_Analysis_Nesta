{
  "nbformat": 4,
  "nbformat_minor": 0,
  "metadata": {
    "colab": {
      "provenance": [],
      "machine_shape": "hm",
      "gpuType": "A100"
    },
    "kernelspec": {
      "name": "python3",
      "display_name": "Python 3"
    },
    "language_info": {
      "name": "python"
    },
    "accelerator": "GPU"
  },
  "cells": [
    {
      "cell_type": "code",
      "execution_count": null,
      "metadata": {
        "id": "Ad6wCeu3IKJ_"
      },
      "outputs": [],
      "source": [
        "import pandas as pd\n",
        "\n",
        "# Load the EYFSP dataset\n",
        "df = pd.read_csv('/content/1_eyfsp_headline_measures_2022_2024.csv')\n",
        "\n",
        "# Check shape and preview first rows\n",
        "print(\"Shape:\", df.shape)\n",
        "df.head()\n"
      ]
    },
    {
      "cell_type": "code",
      "source": [
        "# Clean column names: lowercase, replace spaces with underscores\n",
        "df.columns = df.columns.str.lower().str.replace(' ', '_').str.replace('%', 'percent')\n",
        "\n",
        "# Preview cleaned columns\n",
        "df.columns\n",
        "df.describe()\n"
      ],
      "metadata": {
        "id": "_tSD0J5lJimD"
      },
      "execution_count": null,
      "outputs": []
    },
    {
      "cell_type": "code",
      "source": [
        "# Filter the data to include only 'Total' rows (no breakdown)\n",
        "df_total = df[df['breakdown'] == 'Total']\n",
        "\n",
        "# Now look at how many rows we have for each region\n",
        "df_total['region_name'].value_counts()\n"
      ],
      "metadata": {
        "id": "sH8AgN7qJsSG"
      },
      "execution_count": null,
      "outputs": []
    },
    {
      "cell_type": "code",
      "source": [
        "# Convert the column to numeric (very important!)\n",
        "df_total['gld_percentage'] = pd.to_numeric(df_total['gld_percentage'], errors='coerce')\n",
        "\n",
        "# Group the total data by region and calculate the average GLD%\n",
        "region_gld = df_total.groupby('region_name')['gld_percentage'].mean().reset_index()\n",
        "\n",
        "# Sort from lowest to highest\n",
        "region_gld = region_gld.sort_values(by='gld_percentage', ascending=True)\n",
        "\n",
        "# Show the results\n",
        "region_gld\n"
      ],
      "metadata": {
        "id": "48CSxipdMBvW"
      },
      "execution_count": null,
      "outputs": []
    },
    {
      "cell_type": "code",
      "source": [
        "import pandas as pd\n",
        "\n",
        "# Load the deprivation dataset\n",
        "df_deprivation = pd.read_csv('/content/4_eyfsp_headline_measures_deprivation_2022_2024.csv')\n",
        "\n",
        "# Clean column names\n",
        "df_deprivation.columns = df_deprivation.columns.str.lower().str.strip().str.replace(' ', '_')\n",
        "\n",
        "# Show first few rows to understand\n",
        "df_deprivation.head()\n"
      ],
      "metadata": {
        "id": "Ffh-f27UOBvS"
      },
      "execution_count": null,
      "outputs": []
    },
    {
      "cell_type": "code",
      "source": [
        "df_deprivation.columns\n"
      ],
      "metadata": {
        "id": "SS7n5zQ9Ojiq"
      },
      "execution_count": null,
      "outputs": []
    },
    {
      "cell_type": "code",
      "source": [
        "# What deprivation levels are in the dataset?\n",
        "df_deprivation['idaci_decile'].unique()\n"
      ],
      "metadata": {
        "id": "HJCa0yq-OaPl"
      },
      "execution_count": null,
      "outputs": []
    },
    {
      "cell_type": "code",
      "source": [
        "# 1. Remove the 'Total' row\n",
        "df_deprivation_clean = df_deprivation[df_deprivation['idaci_decile'] != 'Total'].copy()\n",
        "\n",
        "# 2. Convert 'idaci_decile' and 'gld_percentage' to numeric\n",
        "df_deprivation_clean['idaci_decile'] = df_deprivation_clean['idaci_decile'].astype(int)\n",
        "df_deprivation_clean['gld_percentage'] = pd.to_numeric(df_deprivation_clean['gld_percentage'], errors='coerce')\n",
        "\n",
        "# 3. Group by deprivation level and calculate average GLD%\n",
        "gld_by_deprivation = df_deprivation_clean.groupby('idaci_decile')['gld_percentage'].mean().reset_index()\n",
        "\n",
        "# 4. Sort from most deprived (1) to least deprived (10)\n",
        "gld_by_deprivation = gld_by_deprivation.sort_values('idaci_decile')\n",
        "\n",
        "# 5. Show it\n",
        "gld_by_deprivation\n"
      ],
      "metadata": {
        "id": "cooVG3e4Po2v"
      },
      "execution_count": null,
      "outputs": []
    },
    {
      "cell_type": "code",
      "source": [
        "import plotly.express as px\n",
        "\n",
        "# Plot bar chart\n",
        "fig = px.bar(\n",
        "    gld_by_deprivation,\n",
        "    x='idaci_decile',\n",
        "    y='gld_percentage',\n",
        "    text=gld_by_deprivation['gld_percentage'].round(1).astype(str) + '%',\n",
        "    labels={\n",
        "        'idaci_decile': 'Deprivation Decile (1 = Most Deprived)',\n",
        "        'gld_percentage': 'Average % Achieving Good Level of Development (GLD)'\n",
        "    },\n",
        "    title='GLD% by Deprivation Decile (2022–2024)',\n",
        "    color='gld_percentage',\n",
        "    color_continuous_scale='YlOrRd'\n",
        ")\n",
        "\n",
        "fig.update_traces(textposition='outside')\n",
        "fig.update_layout(yaxis_range=[0, gld_by_deprivation['gld_percentage'].max() + 5])\n",
        "fig.show()\n"
      ],
      "metadata": {
        "id": "MrXg6XdfMOH6"
      },
      "execution_count": null,
      "outputs": []
    },
    {
      "cell_type": "code",
      "source": [
        "import matplotlib.pyplot as plt\n",
        "\n",
        "# Clean and convert the column to float\n",
        "df_deprivation[\"gld_percentage\"] = df_deprivation[\"gld_percentage\"].astype(str).str.replace('%', '').str.strip()\n",
        "df_deprivation[\"gld_percentage\"] = pd.to_numeric(df_deprivation[\"gld_percentage\"], errors='coerce')\n",
        "\n",
        "# Group by sex and calculate average GLD %\n",
        "gender_avg_gld = df_deprivation.groupby(\"sex\")[\"gld_percentage\"].mean().reset_index()\n",
        "\n",
        "# Prepare data (already cleaned above)\n",
        "genders = gender_avg_gld[\"sex\"]\n",
        "values = gender_avg_gld[\"gld_percentage\"]\n",
        "\n",
        "# Set up plot size\n",
        "plt.figure(figsize=(8, 5))\n",
        "\n",
        "# Plot horizontal bar chart\n",
        "bars = plt.bar(genders, values, color=[\"#4f83cc\", \"#f28281\", \"#c0c0c0\"])\n",
        "\n",
        "# Add title and axis labels\n",
        "plt.title(\"🧒 GLD % Comparison by Gender (EYFSP 2022–2024)\", fontsize=14)\n",
        "plt.xlabel(\"Gender\")\n",
        "plt.ylabel(\"Average Good Level of Development (%)\")\n",
        "plt.ylim(0, 100)\n",
        "\n",
        "# Add % labels above each bar\n",
        "for bar in bars:\n",
        "    yval = bar.get_height()\n",
        "    plt.text(bar.get_x() + bar.get_width()/2, yval + 1, f\"{yval:.1f}%\", ha='center', va='bottom', fontsize=11)\n",
        "\n",
        "# Beautify layout\n",
        "plt.tight_layout()\n",
        "plt.grid(axis='y', linestyle='--', alpha=0.5)\n",
        "plt.show()\n"
      ],
      "metadata": {
        "id": "_t9AfWIIQHeY"
      },
      "execution_count": null,
      "outputs": []
    },
    {
      "cell_type": "code",
      "source": [
        "# Check the available years in the data\n",
        "df_trend = df.copy()\n",
        "\n",
        "df_trend[\"time_period\"].unique()\n",
        "\n"
      ],
      "metadata": {
        "id": "nMG6FjvMkV--"
      },
      "execution_count": null,
      "outputs": []
    },
    {
      "cell_type": "code",
      "source": [
        "import matplotlib.pyplot as plt\n",
        "\n",
        "# Filter only national-level data (if needed)\n",
        "df_england = df_trend[df_trend[\"country_name\"] == \"England\"]\n",
        "\n",
        "# Convert time_period to readable string for plotting\n",
        "df_england[\"year\"] = df_england[\"time_period\"].astype(str).map({\n",
        "    \"202122\": \"2021–22\",\n",
        "    \"202223\": \"2022–23\",\n",
        "    \"202324\": \"2023–24\"\n",
        "})\n",
        "\n",
        "\n",
        "# Convert GLD % to float\n",
        "df_england.loc[:, \"gld_percentage\"] = pd.to_numeric(df_england[\"gld_percentage\"], errors=\"coerce\")\n",
        "\n",
        "# Group and calculate average GLD %\n",
        "trend = df_england.groupby(\"year\")[\"gld_percentage\"].mean().reset_index()\n",
        "\n",
        "# Plot\n",
        "plt.figure(figsize=(8, 5))\n",
        "plt.plot(trend[\"year\"], trend[\"gld_percentage\"], marker=\"o\", linewidth=2, color=\"royalblue\")\n",
        "\n",
        "# Titles and labels\n",
        "plt.title(\"📈 National GLD % Trend (England, 2021–24)\", fontsize=14)\n",
        "plt.xlabel(\"Academic Year\")\n",
        "plt.ylabel(\"Good Level of Development (%)\")\n",
        "plt.ylim(0, 100)\n",
        "plt.grid(True)\n",
        "plt.tight_layout()\n",
        "plt.show()\n"
      ],
      "metadata": {
        "id": "ZwSC1TFumObF"
      },
      "execution_count": null,
      "outputs": []
    },
    {
      "cell_type": "code",
      "source": [
        "import zipfile\n",
        "import os\n",
        "\n",
        "# Set the path to your uploaded zip file (adjust if filename differs)\n",
        "zip_path = \"/content/Regions_December_2024_Boundaries_EN_BFC_-8742955026742668245.zip\"\n",
        "extract_path = \"/content/ons_regions_shapefile\"\n",
        "\n",
        "# Unzip the file\n",
        "with zipfile.ZipFile(zip_path, 'r') as zip_ref:\n",
        "    zip_ref.extractall(extract_path)\n",
        "\n",
        "# List extracted files\n",
        "os.listdir(extract_path)\n"
      ],
      "metadata": {
        "id": "nPyzzYa9ojlT"
      },
      "execution_count": null,
      "outputs": []
    },
    {
      "cell_type": "code",
      "source": [
        "import geopandas as gpd\n",
        "\n",
        "# Load the shapefile (.shp) from the unzipped directory\n",
        "gdf = gpd.read_file(\"/content/ons_regions_shapefile/RGN_DEC_24_EN_BFC.shp\")  # Make sure the path matches your folder structure\n",
        "\n",
        "# Preview to confirm\n",
        "gdf.head()\n",
        "\n"
      ],
      "metadata": {
        "id": "dWYvL6T2sSDV"
      },
      "execution_count": null,
      "outputs": []
    },
    {
      "cell_type": "code",
      "source": [
        "region_scores = df_total.groupby(\"region_name\")[\"gld_percentage\"].mean().reset_index()\n",
        "region_scores[\"gld_percentage\"] = region_scores[\"gld_percentage\"].astype(float)\n",
        "\n"
      ],
      "metadata": {
        "id": "jd1CoPQnsSgK"
      },
      "execution_count": null,
      "outputs": []
    },
    {
      "cell_type": "code",
      "source": [
        "import geopandas as gpd\n",
        "import matplotlib.pyplot as plt\n",
        "\n",
        "gdf = gpd.read_file(\"/content/ons_regions_shapefile/RGN_DEC_24_EN_BFC.shp\")  # Update if path differs\n",
        "\n",
        "gdf = gdf.rename(columns={\"RGN24NM\": \"region_name\"})\n",
        "map_df = gdf.merge(region_scores, on=\"region_name\")\n",
        "\n",
        "\n",
        "fig, ax = plt.subplots(1, 1, figsize=(10, 12))\n",
        "map_df.plot(column=\"gld_percentage\", ax=ax, legend=True, cmap=\"YlOrRd\", edgecolor=\"black\")\n",
        "ax.set_title(\"FSM Attainment by Region (GLD %)\\nPercentage of FSM-eligible children reaching a Good Level of Development\", fontsize=14)\n",
        "pad=20\n",
        "ax.axis(\"off\")\n",
        "plt.show()\n",
        "\n",
        "\n",
        "\n",
        "\n",
        "\n",
        "\n"
      ],
      "metadata": {
        "id": "3uaHBHfZsufJ"
      },
      "execution_count": null,
      "outputs": []
    }
  ]
}